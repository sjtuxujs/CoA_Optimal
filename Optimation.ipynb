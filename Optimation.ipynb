{
 "metadata": {
  "language_info": {
   "codemirror_mode": {
    "name": "ipython",
    "version": 3
   },
   "file_extension": ".py",
   "mimetype": "text/x-python",
   "name": "python",
   "nbconvert_exporter": "python",
   "pygments_lexer": "ipython3",
   "version": "3.8.0-final"
  },
  "orig_nbformat": 2,
  "kernelspec": {
   "name": "python3",
   "display_name": "Python 3.8.0 64-bit",
   "metadata": {
    "interpreter": {
     "hash": "46cf3ee39f0da6b89ad8241acb17a25c307895caaaa4d7f457be576e74d887b7"
    }
   }
  }
 },
 "nbformat": 4,
 "nbformat_minor": 2,
 "cells": [
  {
   "cell_type": "code",
   "execution_count": 5,
   "metadata": {},
   "outputs": [
    {
     "output_type": "stream",
     "name": "stdout",
     "text": [
      "      fun: 2.0000000000000013\n hess_inv: array([[ 0.75000001, -0.24999999],\n       [-0.24999999,  0.75000001]])\n      jac: array([-5.96046448e-08, -5.96046448e-08])\n  message: 'Optimization terminated successfully.'\n     nfev: 9\n      nit: 2\n     njev: 3\n   status: 0\n  success: True\n        x: array([-2.37910001e-08, -2.37910001e-08])\n"
     ]
    }
   ],
   "source": [
    "\"\"\"\n",
    "    Author: Xu Jingshen\n",
    "    Time: 2022/03/16\n",
    "\"\"\"\n",
    "import numpy as np \n",
    "from scipy.optimize import minimize\n",
    "\n",
    "def eqn(X):\n",
    "    return X@X + 2          #“@”表示矩阵相乘\n",
    "X0 = np.asarray((1, 1))\n",
    "\n",
    "mymin = minimize(fun=eqn, x0 = X0, method = \"BFGS\")\n",
    "print(mymin)\n",
    "\n",
    "\"\"\"\n",
    "e = 1e-10 # 非常接近0的值\n",
    "fun = lambda x : (x[0] - 0.667) / (x[0] + x[1] + x[2] - 2) # 约束函数\n",
    "\n",
    "cons = ({'type': 'eq', 'fun': lambda x: x[0] * x[1] * x[2] - 1}, # xyz=1\n",
    "        {'type': 'ineq', 'fun': lambda x: x[0] - e}, # x>=e，即 x > 0\n",
    "        {'type': 'ineq', 'fun': lambda x: x[1] - e},\n",
    "        {'type': 'ineq', 'fun': lambda x: x[2] - e}\n",
    "       )\n",
    "x0 = np.array((1.0, 1.0, 1.0)) # 设置初始值\n",
    "res = minimize(fun, x0, method='SLSQP', constraints = cons)\n",
    "print(res)\n",
    "#print('最小值：',res.fun)\n",
    "#print('最优解：',res.x)\n",
    "#print('迭代终止是否成功：', res.success)\n",
    "#print('迭代终止原因：', res.message)\n",
    "\"\"\"\n",
    "\n"
   ]
  },
  {
   "cell_type": "code",
   "execution_count": 39,
   "metadata": {},
   "outputs": [
    {
     "output_type": "stream",
     "name": "stdout",
     "text": [
      "[[2 0 2 2 0 0 2 1 2 2 2 2 0 2 1 0 1 1 1 1]\n [0 0 1 1 0 0 0 2 2 2 1 2 1 1 2 1 2 2 0 2]\n [0 2 2 0 0 2 1 0 1 1 1 0 1 0 1 2 2 0 2 2]\n [1 0 1 1 1 1 1 1 1 0 2 1 1 1 1 1 1 2 2 1]\n [2 0 1 0 0 1 2 0 1 0 0 0 0 2 0 0 0 2 0 0]\n [2 2 2 0 2 2 0 2 0 1 2 1 0 2 0 1 0 2 2 1]\n [0 2 1 2 2 0 2 0 2 1 2 0 0 1 2 2 1 2 2 0]\n [2 2 1 1 0 2 2 2 0 0 1 0 2 2 0 2 2 0 0 2]\n [2 2 1 1 1 0 1 0 0 1 1 1 2 1 2 0 2 1 0 0]\n [0 2 1 0 0 0 2 2 1 2 0 1 0 0 2 1 2 2 1 0]]\n[0.40383617 0.06489225 0.25391541 0.24687606 0.69630427 0.71227059\n 0.14808693 0.99774049 0.26678101 0.97661496]\n     fun: 6.863394113995715e-07\n     jac: array([ 7.79995975e-05,  3.90859214e-04, -7.04754178e-05,  2.98714674e-04,\n        1.17347684e-04, -1.71260358e-04,  1.93013623e-04,  1.57754021e-04,\n       -6.01396779e-05,  1.41828358e-04,  3.83911799e-05, -1.34149133e-04,\n       -1.73655731e-04,  2.19043613e-04, -1.24959512e-04,  1.23909931e-04,\n       -9.42028108e-05, -2.97888715e-04, -2.36985510e-04, -1.25695520e-04])\n message: 'Optimization terminated successfully'\n    nfev: 254\n     nit: 12\n    njev: 12\n  status: 0\n success: True\n       x: array([-0.10254615,  0.30674535,  0.3062988 ,  0.28888774, -0.07746607,\n        0.04968029,  0.13891636,  0.28924173,  0.23705325, -0.07842   ,\n       -0.52913994,  0.25951161,  0.50915427, -0.09977426, -0.42643879,\n       -0.04764645, -0.31539733,  0.11459297,  0.16292403, -0.2617903 ])\n"
     ]
    }
   ],
   "source": [
    "from scipy.optimize import minimize\n",
    "import pandas as pd \n",
    "import numpy as np\n",
    "\n",
    "\n",
    "##Objective Function\n",
    "def MSE(S, dc):\n",
    "    \"\"\"\n",
    "    params:\n",
    "        S: Stoichiometric Matrix (Matrix) \n",
    "        dc: Changes of concentrations (vector) unit(mol/(L * min))\n",
    "    return: object function(MSE here)\n",
    "    \"\"\"\n",
    "    def v(x):\n",
    "        \"\"\"\n",
    "        params:\n",
    "            x: Velocity of Chemical reaction (vector)\n",
    "        return:\n",
    "        \"\"\"\n",
    "        return np.linalg.norm((S@x-dc), ord = 2)**2 / (S.shape[1])          #1/m * (S@x - dc)**2\n",
    "    return v\n",
    "\n",
    "np.random.seed(42)\n",
    "S =  np.random.randint(low = 0, high = 3, size = (10,20))                  #Stoichiometric Matrix\n",
    "dc =  np. random.rand(10)                       #Changes of concentration\n",
    "k  = 2/3                                        #ratio of carbonhydrate to lipid  \n",
    "\n",
    "print(S)\n",
    "print(dc)\n",
    "\n",
    "\n",
    "\n",
    "e = 1e-10       #非常接近0的值\n",
    "cons = ({'type': 'eq', 'fun': lambda x: x[0] + x[1] - k * x[2]}) # x+y = k(z)\n",
    "       \n",
    "\n",
    "#x0 = np.zeros(v.shape[0])      #全零\n",
    "np.random.seed(42)\n",
    "x0 = np.random.rand(S.shape[1])      #随机初始值\n",
    "\n",
    "res = minimize(MSE(S, dc), x0, method='SLSQP', constraints = cons)\n",
    "print(res)"
   ]
  },
  {
   "cell_type": "code",
   "execution_count": 31,
   "metadata": {},
   "outputs": [
    {
     "output_type": "stream",
     "name": "stdout",
     "text": [
      "(3,)\n3\n"
     ]
    },
    {
     "output_type": "execute_result",
     "data": {
      "text/plain": [
       "array([0.37454012, 0.95071431, 0.73199394])"
      ]
     },
     "metadata": {},
     "execution_count": 31
    }
   ],
   "source": [
    "X = np.asarray((2, 2))\n",
    "np.linalg.norm(X, ord=2)**2\n",
    "print(np.array((1, 1, 1)).shape)\n",
    "print(np.zeros(3).shape[0])\n",
    "\n",
    "np.random.seed(42)\n",
    "np.random.rand(3)\n"
   ]
  }
 ]
}