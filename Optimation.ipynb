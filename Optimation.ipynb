{
 "metadata": {
  "language_info": {
   "codemirror_mode": {
    "name": "ipython",
    "version": 3
   },
   "file_extension": ".py",
   "mimetype": "text/x-python",
   "name": "python",
   "nbconvert_exporter": "python",
   "pygments_lexer": "ipython3",
   "version": "3.8.0-final"
  },
  "orig_nbformat": 2,
  "kernelspec": {
   "name": "python3",
   "display_name": "Python 3.8.0 64-bit",
   "metadata": {
    "interpreter": {
     "hash": "46cf3ee39f0da6b89ad8241acb17a25c307895caaaa4d7f457be576e74d887b7"
    }
   }
  }
 },
 "nbformat": 4,
 "nbformat_minor": 2,
 "cells": [
  {
   "cell_type": "code",
   "execution_count": 31,
   "metadata": {},
   "outputs": [
    {
     "output_type": "stream",
     "name": "stdout",
     "text": [
      "      fun: 2.0000000000000013\n hess_inv: array([[ 0.75000001, -0.24999999],\n       [-0.24999999,  0.75000001]])\n      jac: array([-5.96046448e-08, -5.96046448e-08])\n  message: 'Optimization terminated successfully.'\n     nfev: 9\n      nit: 2\n     njev: 3\n   status: 0\n  success: True\n        x: array([-2.37910001e-08, -2.37910001e-08])\n"
     ]
    }
   ],
   "source": [
    "\"\"\"\n",
    "    Author: Xu Jingshen\n",
    "    Time: 2022/03/16\n",
    "\"\"\"\n",
    "import numpy as np \n",
    "from scipy.optimize import minimize\n",
    "\n",
    "def eqn(X):\n",
    "    return X@X + 2          #“@”表示矩阵相乘\n",
    "X0 = np.asarray((1, 1))\n",
    "\n",
    "mymin = minimize(fun=eqn, x0 = X0, method = \"BFGS\")\n",
    "print(mymin)\n"
   ]
  },
  {
   "cell_type": "code",
   "execution_count": 32,
   "metadata": {},
   "outputs": [
    {
     "output_type": "error",
     "ename": "SyntaxError",
     "evalue": "invalid syntax (<ipython-input-32-28956c3e085e>, line 29)",
     "traceback": [
      "\u001b[1;36m  File \u001b[1;32m\"<ipython-input-32-28956c3e085e>\"\u001b[1;36m, line \u001b[1;32m29\u001b[0m\n\u001b[1;33m    return np.linalg.norm((S@x-dc)), ord=2) / 2           #1/m * (S@x - dc)**2\u001b[0m\n\u001b[1;37m                                        ^\u001b[0m\n\u001b[1;31mSyntaxError\u001b[0m\u001b[1;31m:\u001b[0m invalid syntax\n"
     ]
    }
   ],
   "source": [
    "from scipy.optimize import minimize\n",
    "import numpy as np\n",
    "\"\"\"\n",
    "e = 1e-10 # 非常接近0的值\n",
    "fun = lambda x : (x[0] - 0.667) / (x[0] + x[1] + x[2] - 2) # 约束函数\n",
    "\n",
    "cons = ({'type': 'eq', 'fun': lambda x: x[0] * x[1] * x[2] - 1}, # xyz=1\n",
    "        {'type': 'ineq', 'fun': lambda x: x[0] - e}, # x>=e，即 x > 0\n",
    "        {'type': 'ineq', 'fun': lambda x: x[1] - e},\n",
    "        {'type': 'ineq', 'fun': lambda x: x[2] - e}\n",
    "       )\n",
    "x0 = np.array((1.0, 1.0, 1.0)) # 设置初始值\n",
    "res = minimize(fun, x0, method='SLSQP', constraints = cons)\n",
    "print(res)\n",
    "#print('最小值：',res.fun)\n",
    "#print('最优解：',res.x)\n",
    "#print('迭代终止是否成功：', res.success)\n",
    "#print('迭代终止原因：', res.message)\n",
    "\"\"\"\n",
    "\n",
    "def MSE(S, v, dc):\n",
    "    \"\"\"\n",
    "    params:\n",
    "        S: (Matrix) \n",
    "        dc: Changes of concentrations (vector) unit(mol/(L * min))\n",
    "    return: object function(MSE here)\n",
    "    \"\"\"\n",
    "    def v(x):\n",
    "        \"\"\"\n",
    "        params:\n",
    "            x: Velocity of Chemical reaction (vector)\n",
    "        return:\n",
    "        \"\"\"\n",
    "        return np.linalg.norm((S@x-dc)), ord=2)**2 / S.shape[1]          #1/m * (S@x - dc)**2\n",
    "    return v\n"
   ]
  },
  {
   "cell_type": "code",
   "execution_count": 37,
   "metadata": {},
   "outputs": [
    {
     "output_type": "execute_result",
     "data": {
      "text/plain": [
       "2"
      ]
     },
     "metadata": {},
     "execution_count": 37
    }
   ],
   "source": [
    "X = np.asarray((2, 2))\n",
    "np.linalg.norm(X, ord=2)**2\n",
    "\n",
    "X.shape["
   ]
  }
 ]
}