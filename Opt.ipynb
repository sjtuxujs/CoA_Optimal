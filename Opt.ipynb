{
 "metadata": {
  "language_info": {
   "codemirror_mode": {
    "name": "ipython",
    "version": 3
   },
   "file_extension": ".py",
   "mimetype": "text/x-python",
   "name": "python",
   "nbconvert_exporter": "python",
   "pygments_lexer": "ipython3",
   "version": "3.8.0-final"
  },
  "orig_nbformat": 2,
  "kernelspec": {
   "name": "python3",
   "display_name": "Python 3.8.0 64-bit",
   "metadata": {
    "interpreter": {
     "hash": "46cf3ee39f0da6b89ad8241acb17a25c307895caaaa4d7f457be576e74d887b7"
    }
   }
  }
 },
 "nbformat": 4,
 "nbformat_minor": 2,
 "cells": [
  {
   "cell_type": "code",
   "execution_count": 2,
   "metadata": {},
   "outputs": [
    {
     "output_type": "stream",
     "name": "stdout",
     "text": [
      "[ 0.0153297   0.381922    0.15729987  0.28049512 -0.13320786  0.04212321\n  0.09943265  0.26773484  0.31758636 -0.08570936 -0.52621666  0.28031924\n  0.47278341 -0.15197895 -0.42799443 -0.04345252 -0.33229437  0.12686107\n  0.20495698 -0.2085264 ]\n"
     ]
    }
   ],
   "source": [
    "from scipy.optimize import minimize\n",
    "import pandas as pd \n",
    "import numpy as np\n",
    "\n",
    "\n",
    "##Objective Function\n",
    "def MSE(S, dc):\n",
    "    \"\"\"\n",
    "    params:\n",
    "        S: Stoichiometric Matrix (Matrix) \n",
    "        dc: Changes of concentrations (vector) unit(mol/(L * min))\n",
    "    return: object function(MSE here)\n",
    "    \"\"\"\n",
    "    def v(x):\n",
    "        \"\"\"\n",
    "        params:\n",
    "            x: Velocity of Chemical reaction (vector)\n",
    "        return:\n",
    "        \"\"\"\n",
    "        return np.linalg.norm((S@x-dc), ord = 2)**2 / (S.shape[1])          #1/m * (S@x - dc)**2\n",
    "    return v\n",
    "\n",
    "###test case\n",
    "\n",
    "np.random.seed(42)              #set seed\n",
    "S =  np.random.randint(low = 0, high = 3, size = (10,20))         #Stoichiometric Matrix\n",
    "dc =  np. random.rand(10)                       #Changes of concentration\n",
    "k  = 2/3                                        #ratio of carbonhydrate to lipid  \n",
    "\n",
    "\n",
    "### True Env\n",
    "\n",
    "\n",
    "\n",
    "\n",
    "e = 1e-10                   #Infinitesimal\n",
    "cons = ({'type': 'eq', 'fun': lambda x: x[0] + x[1] - k * x[2]})    # x+y = k(z), constrains\n",
    "       \n",
    "\n",
    "#x0 = np.zeros(v.shape[0])          #all zeros\n",
    "np.random.seed(42)                  #set seed\n",
    "x0 = np.random.rand(S.shape[1])     #random init\n",
    "\n",
    "res = minimize(MSE(S, dc), x0, method='BFGS', constraints = cons)       #optimation\n",
    "print(res)\n"
   ]
  }
 ]
}