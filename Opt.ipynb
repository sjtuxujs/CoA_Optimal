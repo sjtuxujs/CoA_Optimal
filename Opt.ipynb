{
 "metadata": {
  "language_info": {
   "codemirror_mode": {
    "name": "ipython",
    "version": 3
   },
   "file_extension": ".py",
   "mimetype": "text/x-python",
   "name": "python",
   "nbconvert_exporter": "python",
   "pygments_lexer": "ipython3",
   "version": "3.8.0-final"
  },
  "orig_nbformat": 2,
  "kernelspec": {
   "name": "python3",
   "display_name": "Python 3.8.0 64-bit",
   "metadata": {
    "interpreter": {
     "hash": "46cf3ee39f0da6b89ad8241acb17a25c307895caaaa4d7f457be576e74d887b7"
    }
   }
  }
 },
 "nbformat": 4,
 "nbformat_minor": 2,
 "cells": [
  {
   "cell_type": "code",
   "execution_count": 11,
   "metadata": {},
   "outputs": [
    {
     "output_type": "stream",
     "name": "stdout",
     "text": [
      "     fun: 8.192292958390459\n     jac: array([ 6.00814819e-05,  5.78165054e-05, -2.20537186e-05,  2.16960907e-05,\n       -7.33137131e-05,  5.65052032e-05, -6.28232956e-05,  4.39882278e-05,\n        1.54972076e-05,  4.11272049e-05,  2.45571136e-05,  7.28368759e-05,\n        9.71555710e-05,  3.57627869e-05,  2.30073929e-05, -3.27825546e-05,\n       -4.97102737e-05, -1.53779984e-05,  3.39746475e-05,  9.01222229e-05,\n        1.21951103e-04, -7.03334808e-06])\n message: 'Optimization terminated successfully'\n    nfev: 463\n     nit: 20\n    njev: 20\n  status: 0\n success: True\n       x: array([1.83142821e-01, 9.99999928e-11, 1.22095214e-01, 2.25192863e-01,\n       2.15285802e-01, 3.76469006e-01, 4.04915021e-01, 5.80558701e-01,\n       6.52861890e-01, 1.81292566e-01, 1.19601813e-01, 2.90810699e-01,\n       1.54995502e-01, 1.19560586e-01, 2.16339796e-01, 1.97531651e-01,\n       1.08815196e-01, 1.46611125e-01, 2.49322654e-01, 1.19020160e-01,\n       3.70276789e-01, 1.77185464e-01])\n"
     ]
    }
   ],
   "source": [
    "from scipy.optimize import minimize\n",
    "import pandas as pd \n",
    "import numpy as np\n",
    "\n",
    "\n",
    "##Objective Function\n",
    "def MSE(S, dc):\n",
    "    \"\"\"\n",
    "    params:\n",
    "        S: Stoichiometric Matrix (Matrix) \n",
    "        dc: Changes of concentrations (vector) unit(mol/(L * min))\n",
    "    return: object function(MSE here)\n",
    "    \"\"\"\n",
    "    def v(x):\n",
    "        \"\"\"\n",
    "        params:\n",
    "            x: Velocity of Chemical reaction (vector)\n",
    "        return:\n",
    "        \"\"\"\n",
    "        return np.linalg.norm((S@x-dc), ord = 2)**2 / (S.shape[1])          #1/m * (S@x - dc)**2\n",
    "    return v\n",
    "\n",
    "###test case\n",
    "\"\"\"\n",
    "np.random.seed(42)              #set seed\n",
    "S =  np.random.randint(low = 0, high = 3, size = (10,20))         #Stoichiometric Matrix\n",
    "dc =  np. random.rand(10)                       #Changes of concentration\n",
    "k  = 2/3                                      #ratio of carbonhydrate to lipid  \n",
    "\"\"\"\n",
    "\n",
    "### True case\n",
    "#(1)read file\n",
    "S = pd.read_csv(\"Stoichiometric_Matrix.csv\" ,index_col=0)       #read \"Stoichiometric Matrix\"\n",
    "S = np.array(S)                             #Dataframe to numpy array\n",
    "S = np.nan_to_num(S)                        #trans nan to 0\n",
    "\n",
    "dc = pd.read_csv(\"dc.csv\", index_col=0)     #read \"Changes of concentrations\"\n",
    "dc = np.array(dc)                           #Dataframe to numpy array\n",
    "\n",
    "\n",
    "\n",
    "#(2) params setting\n",
    "k  = 3/2                                    #ratio of carbonhydrate to lipid\n",
    "e = 1e-10                                   #Infinitesimal\n",
    "cons = ({'type': 'eq', 'fun': lambda x: x[0] + x[1] - k * x[2]},    # x+y = k(z), constrains\n",
    "        {'type': 'ineq', 'fun': lambda x: x[0] - e},                # x>=e，即 x > 0\n",
    "        {'type': 'ineq', 'fun': lambda x: x[1] - e},                # y>=e，即 x > 0\n",
    "        {'type': 'ineq', 'fun': lambda x: x[2] - e},                # z>=e，即 x > 0\n",
    "        {'type': 'ineq', 'fun': lambda x: x[3] - e},                \n",
    "        {'type': 'ineq', 'fun': lambda x: x[15] - e},                \n",
    "        {'type': 'ineq', 'fun': lambda x: x[19] - e},\n",
    "        {'type': 'ineq', 'fun': lambda x: x[21] - e}\n",
    "       )\n",
    "            \n",
    "\n",
    "#(3) init X0\n",
    "#x0 = np.zeros(v.shape[0])          #all zeros\n",
    "np.random.seed(42)                  #set seed\n",
    "x0 = np.random.rand(S.shape[1])     #random init\n",
    "#print(x0)\n",
    "\n",
    "#(4) optimation\n",
    "res = minimize(MSE(S, dc), x0, method='SLSQP', constraints = cons)       #optimation\n",
    "print(res)\n"
   ]
  },
  {
   "cell_type": "code",
   "execution_count": 4,
   "metadata": {},
   "outputs": [],
   "source": [
    "\"\"\"\n",
    "#df_S = pd.DataFrame(S)\n",
    "#df_S.to_csv(\"S.csv\")\n",
    "#df_dc = pd.DataFrame(dc)\n",
    "#df_dc.to_csv(\"dc.csv\")\n",
    "\n",
    "np.random.seed(42)\n",
    "dc = np.random.randint(low = 0, high = 3, size = (10))\n",
    "x = np.random.randint(low = 0, high = 3, size = (20))\n",
    "S =  np.random.randint(low = 0, high = 3, size = (10,20))\n",
    "\n",
    "print(S@x)\n",
    "print(dc)\n",
    "\n",
    "np.linalg.norm((S@x-dc), ord = 2)**2\n",
    "\"\"\"\n",
    "\n",
    "dc = 2 * np.random.rand(23) - 1\n",
    "df_dc = pd.DataFrame(dc)\n",
    "df_dc.to_csv(\"dc.csv\")\n"
   ]
  }
 ]
}