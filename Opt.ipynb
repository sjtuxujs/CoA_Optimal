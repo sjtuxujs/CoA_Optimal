{
 "metadata": {
  "language_info": {
   "codemirror_mode": {
    "name": "ipython",
    "version": 3
   },
   "file_extension": ".py",
   "mimetype": "text/x-python",
   "name": "python",
   "nbconvert_exporter": "python",
   "pygments_lexer": "ipython3",
   "version": "3.8.0-final"
  },
  "orig_nbformat": 2,
  "kernelspec": {
   "name": "python3",
   "display_name": "Python 3.8.0 64-bit",
   "metadata": {
    "interpreter": {
     "hash": "46cf3ee39f0da6b89ad8241acb17a25c307895caaaa4d7f457be576e74d887b7"
    }
   }
  }
 },
 "nbformat": 4,
 "nbformat_minor": 2,
 "cells": [
  {
   "cell_type": "code",
   "execution_count": 6,
   "metadata": {},
   "outputs": [
    {
     "output_type": "stream",
     "name": "stdout",
     "text": [
      "     fun: 0.5272585073415043\n     jac: array([0.00083368, 0.00090954, 0.00098536, 0.00060638, 0.00045473,\n       0.00060622, 0.00098542, 0.0007579 , 0.00075799, 0.00075798,\n       0.00090957, 0.00060634, 0.00053049, 0.00090953, 0.00083382,\n       0.00075793, 0.00098539, 0.00106122, 0.00075796, 0.00068209])\n message: 'Optimization terminated successfully'\n    nfev: 133\n     nit: 6\n    njev: 6\n  status: 0\n success: True\n       x: array([-0.06092039,  0.33790694,  0.1846577 ,  0.39313081, -0.07739019,\n       -0.03996663,  0.01161734,  0.0202271 ,  0.4692283 , -0.02900467,\n       -0.44809795,  0.2811047 ,  0.4839284 , -0.16627656, -0.31801577,\n       -0.04555159, -0.33192148,  0.09704038,  0.20956619, -0.17594743])\n"
     ]
    }
   ],
   "source": [
    "from scipy.optimize import minimize\n",
    "import pandas as pd \n",
    "import numpy as np\n",
    "\n",
    "\n",
    "##Objective Function\n",
    "def MSE(S, dc):\n",
    "    \"\"\"\n",
    "    params:\n",
    "        S: Stoichiometric Matrix (Matrix) \n",
    "        dc: Changes of concentrations (vector) unit(mol/(L * min))\n",
    "    return: object function(MSE here)\n",
    "    \"\"\"\n",
    "    def v(x):\n",
    "        \"\"\"\n",
    "        params:\n",
    "            x: Velocity of Chemical reaction (vector)\n",
    "        return:\n",
    "        \"\"\"\n",
    "        return np.linalg.norm((S@x-dc), ord = 2)**2 / (S.shape[1])          #1/m * (S@x - dc)**2\n",
    "    return v\n",
    "\n",
    "###test case\n",
    "\"\"\"\n",
    "np.random.seed(42)              #set seed\n",
    "S =  np.random.randint(low = 0, high = 3, size = (10,20))         #Stoichiometric Matrix\n",
    "dc =  np. random.rand(10)                       #Changes of concentration\n",
    "k  = 2/3                                      #ratio of carbonhydrate to lipid  \n",
    "\"\"\"\n",
    "\n",
    "### True case\n",
    "#(1)read file\n",
    "S = pd.read_csv(\"S.csv\" ,index_col=0)       #read \"Stoichiometric Matrix\"\n",
    "S = np.array(S)                             #Dataframe to numpy array\n",
    "dc = pd.read_csv(\"dc.csv\", index_col=0)     #read \"Changes of concentrations\"\n",
    "dc = np.array(dc)                           #Dataframe to numpy array\n",
    "\n",
    "\n",
    "#(2) params setting\n",
    "k  = 3/2                                    #ratio of carbonhydrate to lipid\n",
    "e = 1e-10                                   #Infinitesimal\n",
    "cons = ({'type': 'eq', 'fun': lambda x: x[0] + x[1] - k * x[2]})    # x+y = k(z), constrains\n",
    "\n",
    "#(3) init X0\n",
    "#x0 = np.zeros(v.shape[0])          #all zeros\n",
    "np.random.seed(42)                  #set seed\n",
    "x0 = np.random.rand(S.shape[1])     #random init\n",
    "\n",
    "#(4) optimation\n",
    "res = minimize(MSE(S, dc), x0, method='SLSQP', constraints = cons)       #optimation\n",
    "print(res)\n"
   ]
  },
  {
   "cell_type": "code",
   "execution_count": 12,
   "metadata": {},
   "outputs": [
    {
     "output_type": "stream",
     "name": "stdout",
     "text": [
      "[12 12 12 12 12]\n[2 2 2 2 2]\n"
     ]
    },
    {
     "output_type": "execute_result",
     "data": {
      "text/plain": [
       "500.00000000000006"
      ]
     },
     "metadata": {},
     "execution_count": 12
    }
   ],
   "source": [
    "\"\"\"\n",
    "df_S = pd.DataFrame(S)\n",
    "df_S.to_csv(\"S.csv\")\n",
    "df_dc = pd.DataFrame(dc)\n",
    "df_dc.to_csv(\"dc.csv\")\n",
    "\n",
    "np.random.seed(42)\n",
    "dc = np.random.randint(low = 2, high = 3, size = (5))\n",
    "x = np.random.randint(low = 2, high = 3, size = (3))\n",
    "S =  np.random.randint(low = 2, high = 3, size = (5,3))\n",
    "\n",
    "print(S@x)\n",
    "print(dc)\n",
    "\n",
    "np.linalg.norm((S@x-dc), ord = 2)**2\n",
    "\"\"\"\n"
   ]
  }
 ]
}